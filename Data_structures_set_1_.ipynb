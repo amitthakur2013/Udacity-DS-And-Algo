{
  "nbformat": 4,
  "nbformat_minor": 0,
  "metadata": {
    "colab": {
      "name": "Data_structures_set_1_.ipynb",
      "provenance": [],
      "collapsed_sections": [],
      "authorship_tag": "ABX9TyOm8EamQ1tFj3JeJA/EDkPw",
      "include_colab_link": true
    },
    "kernelspec": {
      "name": "python3",
      "display_name": "Python 3"
    }
  },
  "cells": [
    {
      "cell_type": "markdown",
      "metadata": {
        "id": "view-in-github",
        "colab_type": "text"
      },
      "source": [
        "<a href=\"https://colab.research.google.com/github/amitthakur2013/Udacity-DS-And-Algo/blob/master/Data_structures_set_1_.ipynb\" target=\"_parent\"><img src=\"https://colab.research.google.com/assets/colab-badge.svg\" alt=\"Open In Colab\"/></a>"
      ]
    },
    {
      "cell_type": "markdown",
      "metadata": {
        "id": "WOsRF4wwkkba",
        "colab_type": "text"
      },
      "source": [
        "Merge Sort"
      ]
    },
    {
      "cell_type": "code",
      "metadata": {
        "id": "cr9oviRRkcaN",
        "colab_type": "code",
        "colab": {
          "base_uri": "https://localhost:8080/",
          "height": 34
        },
        "outputId": "6872a326-a416-444b-ab68-a79e68e5688e"
      },
      "source": [
        "def merge_sort(a,s,e):\n",
        "  if s>=e:\n",
        "    return\n",
        "  mid=(s+e)//2\n",
        "  merge_sort(a,s,mid)\n",
        "  merge_sort(a,mid+1,e)\n",
        "  merge(a,s,mid,e)\n",
        "\n",
        "def merge(a,s,mid,e):\n",
        "  temp=[0 for _ in range(100)]\n",
        "  i,j=s,mid\n",
        "  k=s\n",
        "  while(i<=mid and j<=e):\n",
        "    if a[i]<=a[j]:\n",
        "      temp[k]=a[i]\n",
        "      k+=1\n",
        "      i+=1\n",
        "    else:\n",
        "      temp[k]=a[j]\n",
        "      k+=1\n",
        "      j+=1\n",
        "  while i<=mid:\n",
        "    temp[k]=a[i]\n",
        "    k+=1\n",
        "    i+=1\n",
        "  while j<=e:\n",
        "    temp[k]=a[j]\n",
        "    k+=1\n",
        "    j+=1\n",
        "  for z in range(s,e+1):\n",
        "    a[z]=temp[z]\n",
        "\n",
        "a=[8,7,6,5,4,3,2]\n",
        "merge_sort(a,0,6)\n",
        "a"
      ],
      "execution_count": null,
      "outputs": [
        {
          "output_type": "execute_result",
          "data": {
            "text/plain": [
              "[6, 4, 4, 4, 8, 8, 8]"
            ]
          },
          "metadata": {
            "tags": []
          },
          "execution_count": 11
        }
      ]
    },
    {
      "cell_type": "code",
      "metadata": {
        "id": "GnSqFTa8pJwq",
        "colab_type": "code",
        "colab": {
          "base_uri": "https://localhost:8080/",
          "height": 34
        },
        "outputId": "712b1c09-ce44-44f4-d217-dfa53bdd78f7"
      },
      "source": [
        "def modify(l):\n",
        "  l[2]=258\n",
        "l=[1,2,3,4,5]\n",
        "modify(l)\n",
        "l"
      ],
      "execution_count": null,
      "outputs": [
        {
          "output_type": "execute_result",
          "data": {
            "text/plain": [
              "[1, 2, 258, 4, 5]"
            ]
          },
          "metadata": {
            "tags": []
          },
          "execution_count": 10
        }
      ]
    },
    {
      "cell_type": "markdown",
      "metadata": {
        "id": "nAOgrf23QME3",
        "colab_type": "text"
      },
      "source": [
        "## Linked List"
      ]
    },
    {
      "cell_type": "code",
      "metadata": {
        "id": "OhgnMZGR5IB3",
        "colab_type": "code",
        "colab": {
          "base_uri": "https://localhost:8080/",
          "height": 68
        },
        "outputId": "5e59e67a-6e75-4a44-9002-eb1932d4e303"
      },
      "source": [
        "class Node:\n",
        "  def __init__(self,data):\n",
        "    self.data=data\n",
        "    self.next=None\n",
        "\n",
        "class LinkedList:\n",
        "  def __init__(self):\n",
        "    self.head=None\n",
        "\n",
        "  def push(self,newData):\n",
        "    newNode=Node(newData)\n",
        "    newNode.next=self.head\n",
        "    self.head=newNode\n",
        "\n",
        "  def insertAfter(self,prevNode,data):\n",
        "    if prevNode is None:\n",
        "      return\n",
        "    newNode=Node(data)\n",
        "    newNode.next=prevNode.next\n",
        "    prevNode.next=newNode\n",
        "\n",
        "  def append(self,newData):\n",
        "    newNode=Node(newData)\n",
        "\n",
        "    if self.head is None:\n",
        "      self.head=newNode\n",
        "      return \n",
        "    temp=self.head\n",
        "    while(temp.next):\n",
        "      temp=temp.next \n",
        "    temp.next=newNode \n",
        "\n",
        "  def deleteNode(self,key):\n",
        "    temp=self.head \n",
        "    if temp is not None and temp.data==key:\n",
        "      self.head=temp.next\n",
        "      temp=None\n",
        "      return \n",
        "    while (temp):\n",
        "      if temp.data==key:\n",
        "        break\n",
        "      prev=temp\n",
        "      temp=temp.next\n",
        "    if temp is None:\n",
        "      print(\"Elemet to be deleted not found!!\")\n",
        "      return\n",
        "    prev.next=temp.next \n",
        "    temp=None\n",
        "    return \n",
        "  def deleteNodePos(self,position):\n",
        "    temp=self.head\n",
        "    if position == 0:\n",
        "      self.head=temp.next \n",
        "      temp=None \n",
        "    for i in range(position - 1):\n",
        "      temp=temp.next \n",
        "      if temp is None:\n",
        "        break \n",
        "    if temp is None or temp.next is None:\n",
        "      return \n",
        "    next=temp.next.next \n",
        "    temp.next=None \n",
        "    temp.next=next\n",
        "    return\n",
        "\n",
        "  def deleteList(self): \n",
        "    # initialize the current node \n",
        "    current = self.head \n",
        "    while current: \n",
        "      prev = current.next # move next node \n",
        "        \n",
        "      # delete the current node \n",
        "      del current.data \n",
        "        \n",
        "      # set current equals prev node \n",
        "      current = prev  \n",
        "    \n",
        "  def getCount(self):\n",
        "    temp=self.head \n",
        "    count=0\n",
        "    while(temp):\n",
        "      count+=1 \n",
        "      temp=temp.next\n",
        "    return count\n",
        "\n",
        "  def search(self,key):\n",
        "    temp=self.head \n",
        "    while(temp):\n",
        "      if temp.data == key :\n",
        "        return True \n",
        "      temp=temp.next\n",
        "    return False\n",
        "\n",
        "  def getNth(self, index): \n",
        "    current = self.head # Initialise temp \n",
        "    count = 0 # Index of current node \n",
        "\n",
        "    # Loop while end of linked list is not reached \n",
        "    while (current): \n",
        "      if (count == index): \n",
        "        return current.data \n",
        "      count += 1\n",
        "      current = current.next\n",
        "\n",
        "    # if we get to this line, the caller was asking \n",
        "    # for a non-existent element so we assert fail \n",
        "    assert(false) \n",
        "    return 0; \n",
        "\n",
        "  def printList(self): \n",
        "        temp = self.head \n",
        "        while (temp): \n",
        "            print(temp.data,end=\" \") \n",
        "            temp = temp.next\n",
        "\n",
        "if __name__=='__main__': \n",
        "  \n",
        "    # Start with the empty list \n",
        "    llist = LinkedList() \n",
        "  \n",
        "    # Insert 6.  So linked list becomes 6->None \n",
        "    llist.append(6) \n",
        "  \n",
        "    # Insert 7 at the beginning. So linked list becomes 7->6->None \n",
        "    llist.push(7); \n",
        "  \n",
        "    # Insert 1 at the beginning. So linked list becomes 1->7->6->None \n",
        "    llist.push(1); \n",
        "  \n",
        "    # Insert 4 at the end. So linked list becomes 1->7->6->4->None \n",
        "    llist.append(4) \n",
        "  \n",
        "    # Insert 8, after 7. So linked list becomes 1 -> 7-> 8-> 6-> 4-> None \n",
        "    llist.insertAfter(llist.head.next, 8) \n",
        "    print(llist.getCount())\n",
        "    print ('Created linked list is:')\n",
        "    llist.printList() \n"
      ],
      "execution_count": 23,
      "outputs": [
        {
          "output_type": "stream",
          "text": [
            "5\n",
            "Created linked list is:\n",
            "1 7 8 6 4 "
          ],
          "name": "stdout"
        }
      ]
    },
    {
      "cell_type": "code",
      "metadata": {
        "id": "TLLdXHt1QNT4",
        "colab_type": "code",
        "colab": {
          "base_uri": "https://localhost:8080/",
          "height": 85
        },
        "outputId": "67c765e9-ad3a-4b5f-e8e2-87d87594771e"
      },
      "source": [
        "llist = LinkedList()  \n",
        "llist.push(7)  \n",
        "llist.push(1)  \n",
        "llist.push(3)  \n",
        "llist.push(2)  \n",
        "  \n",
        "print (\"Created Linked List: \") \n",
        "llist.printList()  \n",
        "llist.deleteNode(1)  \n",
        "print (\"\\nLinked List after Deletion of 1:\") \n",
        "llist.printList()  \n",
        "if llist.search(1): \n",
        "  print(\"Yes\") \n",
        "else: \n",
        "  print(\"No\") \n",
        "  "
      ],
      "execution_count": 25,
      "outputs": [
        {
          "output_type": "stream",
          "text": [
            "Created Linked List: \n",
            "2 3 1 7 \n",
            "Linked List after Deletion of 1:\n",
            "2 3 7 No\n"
          ],
          "name": "stdout"
        }
      ]
    },
    {
      "cell_type": "code",
      "metadata": {
        "id": "N5uzKobbdksX",
        "colab_type": "code",
        "colab": {
          "base_uri": "https://localhost:8080/",
          "height": 85
        },
        "outputId": "70b3501e-04f1-4ebc-f05e-ebd848e8aa66"
      },
      "source": [
        "llist = LinkedList() \n",
        "llist.push(7) \n",
        "llist.push(1) \n",
        "llist.push(3) \n",
        "llist.push(2) \n",
        "llist.push(8) \n",
        "  \n",
        "print (\"Created Linked List: \")\n",
        "llist.printList() \n",
        "llist.deleteNodePos(4) \n",
        "print (\"\\nLinked List after Deletion at position 4: \")\n",
        "llist.printList() "
      ],
      "execution_count": 19,
      "outputs": [
        {
          "output_type": "stream",
          "text": [
            "Created Linked List: \n",
            "8 2 3 1 7 \n",
            "Linked List after Deletion at position 4: \n",
            "8 2 3 1 "
          ],
          "name": "stdout"
        }
      ]
    },
    {
      "cell_type": "code",
      "metadata": {
        "id": "37kl3Injfb9N",
        "colab_type": "code",
        "colab": {}
      },
      "source": [
        ""
      ],
      "execution_count": null,
      "outputs": []
    }
  ]
}